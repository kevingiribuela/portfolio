{
 "cells": [
  {
   "cell_type": "code",
   "execution_count": 2,
   "id": "25987741",
   "metadata": {},
   "outputs": [],
   "source": [
    "import matplotlib.pyplot as plt\n",
    "import numpy as np\n",
    "from tool._fixedInt import *\n",
    "from random import *"
   ]
  },
  {
   "cell_type": "markdown",
   "id": "5515e94c",
   "metadata": {},
   "source": [
    "# <u> Coefficient generation <u>"
   ]
  },
  {
   "cell_type": "code",
   "execution_count": 3,
   "id": "c9dced0b",
   "metadata": {},
   "outputs": [],
   "source": [
    "N           = 9\n",
    "NB_COEF     = 16\n",
    "NBF_COEF    = 15\n",
    "\n",
    "b_coef  = [-0.0456, -0.1703, 0.0696, 0.3094, 0.4521, 0.3094, 0.0696, -0.1703, -0.0456]\n",
    "b_fixed = arrayFixedInt(NB_COEF, NBF_COEF, b_coef)\n",
    "b       = np.array([i.fValue for i in b_fixed])\n",
    "\n",
    "coefs = open(\"coefs.hex\", \"w\")\n",
    "for i in b_fixed:\n",
    "    coefs.write(f\"{i.__hex__()}\\n\")\n",
    "coefs.close()\n"
   ]
  },
  {
   "cell_type": "markdown",
   "metadata": {},
   "source": [
    "# <u> ROM  generation<u>"
   ]
  },
  {
   "cell_type": "markdown",
   "metadata": {},
   "source": [
    "### ROM unfolded"
   ]
  },
  {
   "cell_type": "code",
   "execution_count": 4,
   "metadata": {},
   "outputs": [],
   "source": [
    "def matrix_gen(K):\n",
    "    matriz = np.zeros([2**K, K], dtype=int)\n",
    "    for i,j in enumerate (matriz):\n",
    "        for k,l in enumerate(j):\n",
    "            o = bin(i)\n",
    "            if(o[-(k+1)]=='b'):\n",
    "                break\n",
    "            else:\n",
    "                matriz[i][-(k+1)] = o[-(k+1)]\n",
    "    return matriz\n",
    "\n",
    "K = len(b)\n",
    "matriz = matrix_gen(K)\n",
    "rom = np.matmul(matriz, np.flip(b.reshape(K,1)))\n",
    "rom = rom.transpose()\n",
    "\n",
    "ROM = arrayFixedInt(NB_COEF+1, NBF_COEF, rom[0])\n",
    "\n",
    "data = open(\"ROM_unfolded.mem\", \"w\")\n",
    "for i in ROM:\n",
    "    data.write(f\"0x{i.__hex__()}\\n\")\n",
    "\n",
    "data.close()"
   ]
  },
  {
   "cell_type": "markdown",
   "metadata": {},
   "source": [
    "### ROM folded"
   ]
  },
  {
   "cell_type": "code",
   "execution_count": 6,
   "metadata": {},
   "outputs": [],
   "source": [
    "K = 5\n",
    "matriz = matrix_gen(K)\n",
    "rom = np.matmul(matriz,np.flip(b[0:K].reshape(K,1)))\n",
    "rom = rom.transpose()\n",
    "\n",
    "ROM = arrayFixedInt(NB_COEF+1, NBF_COEF, rom[0])\n",
    "\n",
    "data = open(\"ROM_folded.mem\", \"w\")\n",
    "for i in ROM:\n",
    "    data.write(f\"0x{i.__hex__()}\\n\")\n",
    "\n",
    "data.close()\n",
    "\n",
    "a4 = 0.4521\n",
    "A4 = DeFixedInt(16,15)\n",
    "A4.value = a4"
   ]
  },
  {
   "cell_type": "code",
   "execution_count": null,
   "id": "797007d8",
   "metadata": {},
   "outputs": [],
   "source": []
  }
 ],
 "metadata": {
  "kernelspec": {
   "display_name": "Python 3 (ipykernel)",
   "language": "python",
   "name": "python3"
  },
  "language_info": {
   "codemirror_mode": {
    "name": "ipython",
    "version": 3
   },
   "file_extension": ".py",
   "mimetype": "text/x-python",
   "name": "python",
   "nbconvert_exporter": "python",
   "pygments_lexer": "ipython3",
   "version": "3.10.12"
  }
 },
 "nbformat": 4,
 "nbformat_minor": 5
}
