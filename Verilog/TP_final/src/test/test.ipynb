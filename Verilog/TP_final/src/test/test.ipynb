{
 "cells": [
  {
   "cell_type": "markdown",
   "metadata": {},
   "source": [
    "# Generación de datos de entrada y funciones de filtrado"
   ]
  },
  {
   "cell_type": "code",
   "execution_count": null,
   "metadata": {},
   "outputs": [],
   "source": [
    "import sys\n",
    "sys.path.append('../../')\n",
    "import matplotlib.pyplot as plt\n",
    "import numpy as np\n",
    "from scipy.signal import lfilter, firwin\n",
    "from scipy.fftpack import fft,fftshift\n",
    "from scipy import signal\n",
    "from tool._fixedInt import *\n",
    "from random import *\n",
    "import sounddevice as sd\n",
    "import soundfile as sf"
   ]
  },
  {
   "cell_type": "code",
   "execution_count": null,
   "metadata": {},
   "outputs": [],
   "source": [
    "## Resolucion de datos\n",
    "NB_INT  = 32\n",
    "NB_FRAC = 16\n",
    "\n",
    "M       = 3\n",
    "\n",
    "## Set de microfonos\n",
    "mic_set = 'set1'\n",
    "\n",
    "## Señal de interés\n",
    "mic1_path = '../../audios/'+mic_set+'/signal_plus_noise.wav'\n",
    "mic1, fs   = sf.read(mic1_path)\n",
    "\n",
    "## Fuente de ruido\n",
    "mic2_path = '../../audios/'+mic_set+'/noise_only.wav'\n",
    "mic2, fs = sf.read(mic2_path)\n",
    "\n",
    "if(len(mic1)>len(mic2)):\n",
    "    T = len(mic2)-1\n",
    "else:\n",
    "    T = len(mic1)-1\n",
    "\n",
    "Ts      = 1/fs\n",
    "t       = np.arange(0,T/fs, Ts)\n",
    "N       = len(t)\n",
    "n       = np.arange(N)\n",
    "\n",
    "## Generación de ruido extra\n",
    "std_w = np.sqrt(0.5)\n",
    "w     = std_w * np.random.randn(N)\n",
    "\n",
    "## Normalizando señal y agregando ruido extra\n",
    "d   = (mic1[:T]+w)/max(mic1[:T]+w)\n",
    "x   = (mic2[:T]+w)/max(mic2[:T]+w)\n",
    "\n",
    "# Datos utilizados en el calculo de los coeficientes\n",
    "d_aux  = arrayFixedInt(NB_INT, NB_FRAC, d)\n",
    "x_aux = arrayFixedInt(NB_INT, NB_FRAC, x)\n",
    "\n",
    "d_fp    = np.array([i.fValue for i in d_aux])\n",
    "x_fp    = np.array([i.fValue for i in x_aux])"
   ]
  },
  {
   "cell_type": "markdown",
   "metadata": {},
   "source": [
    "## FIR adaptivo\n",
    "La función a implementar debe responder al siguiente RTL:\n",
    "\n",
    "<img src=\"../../doc/sat_trunc_fir.png\">"
   ]
  },
  {
   "cell_type": "code",
   "execution_count": null,
   "metadata": {},
   "outputs": [],
   "source": [
    "def adaptive_fir(x,d,h):\n",
    "    e               = DeFixedInt(NB_INT, NB_FRAC)\n",
    "    partial_prod    = [DeFixedInt(NB_INT,NB_FRAC), DeFixedInt(NB_INT,NB_FRAC), DeFixedInt(NB_INT+1,NB_FRAC)]\n",
    "    partial_sum     = [DeFixedInt(NB_INT+1,NB_FRAC), DeFixedInt(NB_INT,NB_FRAC)]\n",
    "\n",
    "    partial_prod[0].value   = x[0] * h[0]\n",
    "    partial_prod[1].value   = x[1] * h[1]\n",
    "    partial_prod[2].value   = x[2] * h[2]\n",
    "\n",
    "    partial_sum[0].value    = partial_prod[0].fValue + partial_prod[1].fValue\n",
    "    partial_sum[1].value    = partial_prod[2].fValue + partial_sum[0].fValue\n",
    "    \n",
    "    e.value               = d - partial_sum[1].fValue\n",
    "\n",
    "    return e.fValue"
   ]
  },
  {
   "cell_type": "markdown",
   "metadata": {},
   "source": [
    "##  Algoritmo LMS\n",
    "Ahora, la función que represente las operaciones realizadas por el algoritmo LMS deberá seguir al siguiente RTL:\n",
    "\n",
    "<img src=\"../../doc/sat_trunc_lms.png\">"
   ]
  },
  {
   "cell_type": "code",
   "execution_count": null,
   "metadata": {},
   "outputs": [],
   "source": [
    "def lms(x, h, e):\n",
    "    h_out = np.zeros(M)\n",
    "    \n",
    "    u               = DeFixedInt(NB_INT, NB_FRAC)\n",
    "    u.value         = 1.5\n",
    "    uxe             = DeFixedInt(NB_INT, NB_FRAC)\n",
    "    uxe.value       = u.fValue * e\n",
    "\n",
    "    partial_prod    = [DeFixedInt(NB_INT, NB_FRAC), DeFixedInt(NB_INT, NB_FRAC), DeFixedInt(NB_INT, NB_FRAC)]\n",
    "    partial_sum     = [DeFixedInt(NB_INT, NB_FRAC), DeFixedInt(NB_INT, NB_FRAC), DeFixedInt(NB_INT, NB_FRAC)]\n",
    "\n",
    "    partial_prod[0].value   = uxe.fValue * x[0]\n",
    "    partial_prod[1].value   = uxe.fValue * x[1]\n",
    "    partial_prod[2].value   = uxe.fValue * x[2]\n",
    "\n",
    "    partial_sum[0].value    = partial_prod[0].fValue + h[0]\n",
    "    partial_sum[1].value    = partial_prod[1].fValue + h[1]\n",
    "    partial_sum[2].value    = partial_prod[2].fValue + h[2]\n",
    "\n",
    "    h_out[0]                = partial_sum[0].fValue\n",
    "    h_out[1]                = partial_sum[1].fValue\n",
    "    h_out[2]                = partial_sum[2].fValue\n",
    "\n",
    "    return h_out"
   ]
  },
  {
   "cell_type": "markdown",
   "metadata": {},
   "source": [
    "## Filtrado de señal con las funciones previas"
   ]
  },
  {
   "cell_type": "code",
   "execution_count": null,
   "metadata": {},
   "outputs": [],
   "source": [
    "X       = np.zeros([M,1])\n",
    "H       = np.zeros([M,N])\n",
    "e     = []\n",
    "\n",
    "iteraciones = len(x_fp) - 1\n",
    "for i in range(iteraciones):\n",
    "    X[1:, 0] = X[:-1, 0]\n",
    "    X[0, 0]  = x_fp[i]\n",
    "    error = adaptive_fir(x=X[:,0], h=H[:,i], d=d[i])\n",
    "    e.append(error)\n",
    "\n",
    "    H[:,i+1] = lms(x=X[:,0], h=H[:,i], e=error)\n",
    "\n",
    "\n"
   ]
  },
  {
   "cell_type": "code",
   "execution_count": null,
   "metadata": {},
   "outputs": [],
   "source": [
    "# =============================== SALIDAS ===============================\n",
    "plt.figure(figsize=(15,3))\n",
    "plt.plot(n[:-1], e)\n",
    "plt.xlim([0, N])\n",
    "plt.xticks(fontsize=15)\n",
    "plt.yticks(fontsize=15)\n",
    "plt.title(\"Salida del sistema\", fontsize=15)\n",
    "plt.grid(True)\n",
    "\n",
    "# =============================== COEFICIENTES ===============================\n",
    "colores = ['b', 'r', 'k']\n",
    "plt.figure(figsize=(15,3))\n",
    "for i in range(0,M):\n",
    "    plt.plot(n,H[i,:], linewidth=2, label=f\"$h_{i}$\")\n",
    "plt.title(\"Coeficientes\", fontsize=15, fontweight=\"bold\")\n",
    "plt.xlabel(\"n\", fontsize=15)\n",
    "plt.ylabel(\"h(n)\", fontsize=15)\n",
    "plt.xlim([0, 1000])\n",
    "plt.xticks(fontsize=15)\n",
    "plt.yticks(fontsize=15)\n",
    "plt.legend(fontsize=15)\n",
    "plt.grid(True)\n",
    "plt.show()\n",
    "\n",
    "# Amplifico la señal para reproducirla\n",
    "amp     = 3\n",
    "d_amp   = [amp*i for i in d]\n",
    "e_amp   = [amp*i for i in e]\n",
    "\n",
    "# Reproduzco señal amplificada\n",
    "print(f\"Reproduciendo señal ORIGINAL amplificada x{amp}...\")\n",
    "sd.play(d_amp, fs)\n",
    "sd.wait()\n",
    "\n",
    "print(f\"Reproduciendo señal FILTRADA amplificada x{amp}...\")\n",
    "sd.play(e_amp, fs)\n",
    "sd.wait()"
   ]
  },
  {
   "cell_type": "code",
   "execution_count": null,
   "metadata": {},
   "outputs": [],
   "source": [
    "## Guardando señal para testeo\n",
    "err_hex     = arrayFixedInt(NB_INT, NB_FRAC, e)\n",
    "mic1_hex    = arrayFixedInt(NB_INT, NB_FRAC, d_fp)\n",
    "mic2_hex    = arrayFixedInt(NB_INT, NB_FRAC, x_fp)\n",
    "\n",
    "NB_DEPTH = 15\n",
    "\n",
    "data = open(\"out.mem\", \"w\")\n",
    "for i,v in enumerate(err_hex):\n",
    "    if(i<2**NB_DEPTH-1):\n",
    "        data.write(f\"0x{v.__hex__()}\\n\")\n",
    "data.close()\n",
    "\n",
    "data = open(\"mic1.mem\", \"w\")\n",
    "for i,v in enumerate(mic1_hex):\n",
    "    if(i<2**NB_DEPTH-1):\n",
    "        data.write(f\"0x{v.__hex__()}\\n\")\n",
    "data.close()\n",
    "\n",
    "data = open(\"mic2.mem\", \"w\")\n",
    "for i,v in enumerate(mic2_hex):\n",
    "    if(i<2**NB_DEPTH-1):\n",
    "        data.write(f\"0x{v.__hex__()}\\n\")\n",
    "data.close()"
   ]
  }
 ],
 "metadata": {
  "kernelspec": {
   "display_name": "Python 3",
   "language": "python",
   "name": "python3"
  },
  "language_info": {
   "codemirror_mode": {
    "name": "ipython",
    "version": 3
   },
   "file_extension": ".py",
   "mimetype": "text/x-python",
   "name": "python",
   "nbconvert_exporter": "python",
   "pygments_lexer": "ipython3",
   "version": "3.10.12"
  }
 },
 "nbformat": 4,
 "nbformat_minor": 2
}
